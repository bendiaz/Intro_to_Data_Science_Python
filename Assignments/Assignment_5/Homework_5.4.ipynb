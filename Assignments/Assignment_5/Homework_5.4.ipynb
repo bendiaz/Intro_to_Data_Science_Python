{
 "cells": [
  {
   "cell_type": "code",
   "execution_count": 1,
   "metadata": {},
   "outputs": [
    {
     "data": {
      "text/html": [
       "<script>requirejs.config({paths: { 'plotly': ['https://cdn.plot.ly/plotly-latest.min']},});if(!window.Plotly) {{require(['plotly'],function(plotly) {window.Plotly=plotly;});}}</script>"
      ],
      "text/vnd.plotly.v1+html": [
       "<script>requirejs.config({paths: { 'plotly': ['https://cdn.plot.ly/plotly-latest.min']},});if(!window.Plotly) {{require(['plotly'],function(plotly) {window.Plotly=plotly;});}}</script>"
      ]
     },
     "metadata": {},
     "output_type": "display_data"
    }
   ],
   "source": [
    "import pandas as pd\n",
    "import numpy as np\n",
    "import seaborn as sns\n",
    "import matplotlib.pyplot as plt\n",
    "from scipy import stats\n",
    "%matplotlib inline\n",
    "import plotly.offline as py\n",
    "py.init_notebook_mode(connected=True)\n",
    "import time\n",
    "import plotly.graph_objs as go\n",
    "import plotly.tools as tls\n",
    "import warnings\n",
    "from collections import Counter\n",
    "from sklearn.feature_selection import mutual_info_classif\n",
    "from sklearn.ensemble import RandomForestClassifier\n",
    "from sklearn.linear_model import LogisticRegression\n",
    "from sklearn import metrics\n",
    "from scipy import stats\n",
    "from sklearn.model_selection import train_test_split\n",
    "from sklearn.linear_model import LogisticRegressionCV\n",
    "from sklearn.ensemble import GradientBoostingClassifier\n",
    "from sklearn.model_selection import RandomizedSearchCV"
   ]
  },
  {
   "cell_type": "code",
   "execution_count": 2,
   "metadata": {
    "collapsed": true
   },
   "outputs": [],
   "source": [
    "test_df = pd.read_csv('/Users/macbookproi7/Desktop/PHYS 590/590/homework/homework5/test_data.csv')\n",
    "train_df = pd.read_csv('/Users/macbookproi7/Desktop/PHYS 590/590/homework/homework5/train_data.csv')"
   ]
  },
  {
   "cell_type": "code",
   "execution_count": 3,
   "metadata": {
    "collapsed": true
   },
   "outputs": [],
   "source": [
    "test_df.set_index(\"id\",inplace=True)\n",
    "train_df.set_index(\"id\",inplace=True)\n",
    "test_df.fillna(-1,inplace=True)\n",
    "train_df.fillna(-1,inplace=True) ###what to fill null values with\n",
    "train_dummies= pd.get_dummies(train_df.select_dtypes(include=['O']))\n",
    "test_dummies= pd.get_dummies(test_df.select_dtypes(include=['O']))\n",
    "\n",
    "train = pd.concat([train_df.select_dtypes(include=['float64']),train_dummies],axis=1)\n",
    "test=pd.concat([test_df.select_dtypes(include=['float64']), test_dummies],axis=1)\n"
   ]
  },
  {
   "cell_type": "code",
   "execution_count": 4,
   "metadata": {
    "collapsed": true
   },
   "outputs": [],
   "source": [
    "## We split the data into train and test\n",
    "y = train[\"target\"]\n",
    "X =  train.drop(\"target\", 1)\n",
    "X_train, X_test, y_train, y_test = train_test_split(X,\n",
    "                                                    y,\n",
    "                                                    test_size=0.20,\n",
    "                                                    random_state=55,\n",
    "                                                    stratify = y)"
   ]
  },
  {
   "cell_type": "code",
   "execution_count": 5,
   "metadata": {},
   "outputs": [
    {
     "data": {
      "text/plain": [
       "LogisticRegressionCV(Cs=100, class_weight=None, cv=10, dual=False,\n",
       "           fit_intercept=True, intercept_scaling=1.0, max_iter=100,\n",
       "           multi_class='ovr', n_jobs=-1, penalty='l2', random_state=None,\n",
       "           refit=True, scoring='roc_auc', solver='lbfgs', tol=0.0001,\n",
       "           verbose=0)"
      ]
     },
     "execution_count": 5,
     "metadata": {},
     "output_type": "execute_result"
    }
   ],
   "source": [
    "lrcv_clf = LogisticRegressionCV(scoring=\"roc_auc\", cv=10, Cs=100, n_jobs=-1)\n",
    "\n",
    "lrcv_clf.fit(X_train, y_train)"
   ]
  },
  {
   "cell_type": "code",
   "execution_count": 6,
   "metadata": {},
   "outputs": [
    {
     "data": {
      "text/plain": [
       "0.62605663212695006"
      ]
     },
     "execution_count": 6,
     "metadata": {},
     "output_type": "execute_result"
    }
   ],
   "source": [
    "y_estimated_test = lrcv_clf.predict_proba(X_test)[:,1]\n",
    "metrics.roc_auc_score(y_test, y_estimated_test)"
   ]
  },
  {
   "cell_type": "code",
   "execution_count": 7,
   "metadata": {
    "collapsed": true
   },
   "outputs": [],
   "source": [
    "### Run to Submit\n",
    "submission_example = pd.DataFrame({\"prediction\": lrcv_clf.predict_proba(test)[:, 1]}, index=test.index) \n",
    "submission_example.to_csv(\"./submission_exampleLogReg.csv\")"
   ]
  },
  {
   "cell_type": "code",
   "execution_count": 8,
   "metadata": {
    "scrolled": true
   },
   "outputs": [
    {
     "name": "stdout",
     "output_type": "stream",
     "text": [
      "Fitting 5 folds for each of 100 candidates, totalling 500 fits\n"
     ]
    },
    {
     "name": "stderr",
     "output_type": "stream",
     "text": [
      "[Parallel(n_jobs=-1)]: Done  42 tasks      | elapsed:  3.2min\n",
      "[Parallel(n_jobs=-1)]: Done 192 tasks      | elapsed: 10.6min\n",
      "[Parallel(n_jobs=-1)]: Done 442 tasks      | elapsed: 28.1min\n",
      "[Parallel(n_jobs=-1)]: Done 500 out of 500 | elapsed: 32.1min finished\n"
     ]
    },
    {
     "data": {
      "text/plain": [
       "RandomizedSearchCV(cv=5, error_score='raise',\n",
       "          estimator=GradientBoostingClassifier(criterion='friedman_mse', init=None,\n",
       "              learning_rate=0.1, loss='deviance', max_depth=3,\n",
       "              max_features=None, max_leaf_nodes=None,\n",
       "              min_impurity_split=1e-07, min_samples_leaf=1,\n",
       "              min_samples_split=2, min_weight_fraction_leaf=0.0,\n",
       "              n_estimators=100, presort='auto', random_state=None,\n",
       "              subsample=1.0, verbose=0, warm_start=False),\n",
       "          fit_params={}, iid=True, n_iter=100, n_jobs=-1,\n",
       "          param_distributions={'learning_rate': <scipy.stats._distn_infrastructure.rv_frozen object at 0x114d40cf8>, 'n_estimators': <scipy.stats._distn_infrastructure.rv_frozen object at 0x114d5fd68>, 'max_depth': <scipy.stats._distn_infrastructure.rv_frozen object at 0x114d5fac8>, 'min_samples_split': <scip...0x114d655c0>, 'max_leaf_nodes': <scipy.stats._distn_infrastructure.rv_frozen object at 0x114d65748>},\n",
       "          pre_dispatch='2*n_jobs', random_state=None, refit=True,\n",
       "          return_train_score=True, scoring=None, verbose=1)"
      ]
     },
     "execution_count": 8,
     "metadata": {},
     "output_type": "execute_result"
    }
   ],
   "source": [
    "param_distributions = {\n",
    "    \"learning_rate\": stats.uniform(0.0001, 0.5),\n",
    "    \"n_estimators\": stats.randint(100, 500),\n",
    "    \"max_depth\": stats.randint(2, 20),\n",
    "    \"min_samples_split\": stats.uniform(0, 1),\n",
    "    \"min_samples_leaf\": stats.uniform(0, 0.5),\n",
    "    \"min_weight_fraction_leaf\": stats.uniform(0, 0.5),\n",
    "    \"subsample\":stats.uniform(0.2, 0.8),\n",
    "    \"max_leaf_nodes\": stats.randint(4, 1000)    \n",
    "}\n",
    "\n",
    "gbm_clf = GradientBoostingClassifier()\n",
    "\n",
    "r_grid = RandomizedSearchCV(gbm_clf, \n",
    "                            param_distributions=param_distributions,\n",
    "                            cv=5,\n",
    "                            n_jobs=-1,\n",
    "                            n_iter=100, ##iterations\n",
    "                            verbose=1)\n",
    "\n",
    "r_grid.fit(X_train, y_train)"
   ]
  },
  {
   "cell_type": "code",
   "execution_count": 9,
   "metadata": {},
   "outputs": [
    {
     "data": {
      "text/plain": [
       "0.62713122517754283"
      ]
     },
     "execution_count": 9,
     "metadata": {},
     "output_type": "execute_result"
    }
   ],
   "source": [
    "y_estimated_test = r_grid.predict_proba(X_test)[:,1]\n",
    "metrics.roc_auc_score(y_test, y_estimated_test)"
   ]
  },
  {
   "cell_type": "code",
   "execution_count": 10,
   "metadata": {
    "collapsed": true
   },
   "outputs": [],
   "source": [
    "### Run to Submit\n",
    "submission_example = pd.DataFrame({\"prediction\": r_grid.predict_proba(test)[:, 1]}, index=test.index) \n",
    "\n",
    "submission_example.to_csv(\"./submission_exampleGBM.csv\")"
   ]
  },
  {
   "cell_type": "code",
   "execution_count": 11,
   "metadata": {},
   "outputs": [
    {
     "data": {
      "text/plain": [
       "0.50126695531691989"
      ]
     },
     "execution_count": 11,
     "metadata": {},
     "output_type": "execute_result"
    }
   ],
   "source": [
    "import numpy as np\n",
    "import pandas as pd\n",
    "from sklearn import metrics\n",
    "\n",
    "YOUR_FILE = \"/Users/macbookproi7/Desktop/PHYS 590/590/homework/homework5/submission_exampleLogReg.csv\"\n",
    "TEST_FILE = \"/Users/macbookproi7/Desktop/PHYS 590/590/homework/homework5/test_data.csv\"\n",
    "\n",
    "submission_df = pd.read_csv(YOUR_FILE, index_col=[\"id\"])\n",
    "test_df = pd.read_csv(TEST_FILE, index_col=[\"id\"])\n",
    "\n",
    "fake_test_target = pd.DataFrame({\"target\": np.random.choice([0,1], size=test_df.shape[0])}, index=test_df.index)\n",
    "submission_df[\"Truth\"] = fake_test_target[\"target\"]\n",
    "\n",
    "metrics.roc_auc_score(submission_df[\"Truth\"], submission_df[\"prediction\"])"
   ]
  },
  {
   "cell_type": "code",
   "execution_count": 12,
   "metadata": {},
   "outputs": [
    {
     "data": {
      "text/plain": [
       "0.50427370847559727"
      ]
     },
     "execution_count": 12,
     "metadata": {},
     "output_type": "execute_result"
    }
   ],
   "source": [
    "YOUR_FILE = \"/Users/macbookproi7/Desktop/PHYS 590/590/homework/homework5/submission_exampleGBM.csv\"\n",
    "TEST_FILE = \"/Users/macbookproi7/Desktop/PHYS 590/590/homework/homework5/test_data.csv\"\n",
    "\n",
    "submission_df = pd.read_csv(YOUR_FILE, index_col=[\"id\"])\n",
    "test_df = pd.read_csv(TEST_FILE, index_col=[\"id\"])\n",
    "\n",
    "fake_test_target = pd.DataFrame({\"target\": np.random.choice([0,1], size=test_df.shape[0])}, index=test_df.index)\n",
    "submission_df[\"Truth\"] = fake_test_target[\"target\"]\n",
    "\n",
    "metrics.roc_auc_score(submission_df[\"Truth\"], submission_df[\"prediction\"])"
   ]
  },
  {
   "cell_type": "code",
   "execution_count": null,
   "metadata": {
    "collapsed": true
   },
   "outputs": [],
   "source": []
  }
 ],
 "metadata": {
  "kernelspec": {
   "display_name": "Python 3",
   "language": "python",
   "name": "python3"
  },
  "language_info": {
   "codemirror_mode": {
    "name": "ipython",
    "version": 3
   },
   "file_extension": ".py",
   "mimetype": "text/x-python",
   "name": "python",
   "nbconvert_exporter": "python",
   "pygments_lexer": "ipython3",
   "version": "3.6.1"
  }
 },
 "nbformat": 4,
 "nbformat_minor": 2
}
