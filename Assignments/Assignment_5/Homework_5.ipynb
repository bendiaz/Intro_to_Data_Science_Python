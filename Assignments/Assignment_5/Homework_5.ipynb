{
 "cells": [
  {
   "cell_type": "code",
   "execution_count": 1,
   "metadata": {},
   "outputs": [
    {
     "data": {
      "text/html": [
       "<script>requirejs.config({paths: { 'plotly': ['https://cdn.plot.ly/plotly-latest.min']},});if(!window.Plotly) {{require(['plotly'],function(plotly) {window.Plotly=plotly;});}}</script>"
      ],
      "text/vnd.plotly.v1+html": [
       "<script>requirejs.config({paths: { 'plotly': ['https://cdn.plot.ly/plotly-latest.min']},});if(!window.Plotly) {{require(['plotly'],function(plotly) {window.Plotly=plotly;});}}</script>"
      ]
     },
     "metadata": {},
     "output_type": "display_data"
    }
   ],
   "source": [
    "import pandas as pd\n",
    "import numpy as np\n",
    "import seaborn as sns\n",
    "import matplotlib.pyplot as plt\n",
    "from scipy import stats\n",
    "%matplotlib inline\n",
    "import plotly.offline as py\n",
    "py.init_notebook_mode(connected=True)\n",
    "import time\n",
    "import plotly.graph_objs as go\n",
    "import plotly.tools as tls\n",
    "import warnings\n",
    "from collections import Counter\n",
    "from sklearn.feature_selection import mutual_info_classif\n",
    "from sklearn.ensemble import RandomForestClassifier\n",
    "from sklearn.linear_model import LogisticRegression"
   ]
  },
  {
   "cell_type": "code",
   "execution_count": 2,
   "metadata": {},
   "outputs": [],
   "source": [
    "test_df = pd.read_csv('/Users/macbookproi7/Desktop/PHYS 590/590/homework/homework5/test_data.csv',index_col=[\"id\"])\n",
    "train_df = pd.read_csv('/Users/macbookproi7/Desktop/PHYS 590/590/homework/homework5/train_data.csv',index_col=[\"id\"])"
   ]
  },
  {
   "cell_type": "code",
   "execution_count": 3,
   "metadata": {
    "collapsed": true
   },
   "outputs": [],
   "source": [
    "test_df.fillna(-1,inplace=True)\n",
    "train_df.fillna(-1,inplace=True) ###what to fill null values with\n",
    "train_dummies= pd.get_dummies(train_df.select_dtypes(include=['O']))\n",
    "test_dummies= pd.get_dummies(test_df.select_dtypes(include=['O']))\n",
    "\n",
    "train = pd.concat([train_df.select_dtypes(include=['float64']),train_dummies],axis=1)\n",
    "test=pd.concat([test_df.select_dtypes(include=['float64']), test_dummies],axis=1)\n"
   ]
  },
  {
   "cell_type": "code",
   "execution_count": 4,
   "metadata": {
    "collapsed": true
   },
   "outputs": [],
   "source": [
    "## We split the data into train and test\n",
    "from sklearn.model_selection import train_test_split\n",
    "train_dummies= pd.get_dummies(train_df)\n",
    "y = train[\"target\"]\n",
    "X =  train.drop(\"target\", 1)\n",
    "X_train, X_test, y_train, y_test = train_test_split(X,\n",
    "                                                    y,\n",
    "                                                    test_size=0.70,\n",
    "                                                    random_state=69,\n",
    "                                                    stratify = y)"
   ]
  },
  {
   "cell_type": "code",
   "execution_count": 5,
   "metadata": {},
   "outputs": [
    {
     "data": {
      "text/plain": [
       "LogisticRegression(C=1000000.0, class_weight=None, dual=False,\n",
       "          fit_intercept=True, intercept_scaling=1, max_iter=100,\n",
       "          multi_class='ovr', n_jobs=-1, penalty='l2', random_state=None,\n",
       "          solver='liblinear', tol=0.0001, verbose=0, warm_start=False)"
      ]
     },
     "execution_count": 5,
     "metadata": {},
     "output_type": "execute_result"
    }
   ],
   "source": [
    "# We fit and we predict\n",
    "clf = LogisticRegression(n_jobs=-1, C=1e6)\n",
    "clf.fit(X_train, y_train)"
   ]
  },
  {
   "cell_type": "code",
   "execution_count": 6,
   "metadata": {},
   "outputs": [
    {
     "data": {
      "text/plain": [
       "0.67023319615912214"
      ]
     },
     "execution_count": 6,
     "metadata": {},
     "output_type": "execute_result"
    }
   ],
   "source": [
    "prediction = pd.DataFrame({\"y\": y_test, \"prediction\": clf.predict(X_test)})\n",
    "(prediction[\"y\"] == prediction[\"prediction\"]).mean()\n"
   ]
  },
  {
   "cell_type": "code",
   "execution_count": 7,
   "metadata": {},
   "outputs": [
    {
     "data": {
      "text/plain": [
       "0.67023319615912214"
      ]
     },
     "execution_count": 7,
     "metadata": {},
     "output_type": "execute_result"
    }
   ],
   "source": [
    "from sklearn import metrics\n",
    "metrics.accuracy_score(prediction[\"y\"], prediction[\"prediction\"])"
   ]
  },
  {
   "cell_type": "code",
   "execution_count": 8,
   "metadata": {
    "collapsed": true
   },
   "outputs": [],
   "source": [
    "## Lets try different classifiers\n",
    "\n",
    "from sklearn.tree import DecisionTreeClassifier\n",
    "from sklearn.ensemble import GradientBoostingClassifier\n",
    "from sklearn.neighbors import KNeighborsClassifier\n",
    "\n",
    "lr_clf = LogisticRegression(n_jobs=-1)\n",
    "tree_clf = DecisionTreeClassifier(min_samples_leaf=50)\n",
    "knn_clf = KNeighborsClassifier(n_neighbors=10, weights='distance', n_jobs=-1)\n",
    "gbm_clf = GradientBoostingClassifier()"
   ]
  },
  {
   "cell_type": "code",
   "execution_count": 9,
   "metadata": {
    "collapsed": true
   },
   "outputs": [],
   "source": [
    "lr_clf.fit(X_train, y_train)\n",
    "tree_clf.fit(X_train, y_train)\n",
    "knn_clf.fit(X_train, y_train)\n",
    "gbm_clf.fit(X_train, y_train)\n",
    "\n",
    "pred_df = pd.DataFrame({\"y\": y_test,\n",
    "                        \"pred_LR\": lr_clf.predict(X_test),\n",
    "                        \"pred_KNN\": knn_clf.predict(X_test),\n",
    "                        \"pred_Tree\": tree_clf.predict(X_test),\n",
    "                        \"pred_GBM\": gbm_clf.predict(X_test)})"
   ]
  },
  {
   "cell_type": "code",
   "execution_count": 10,
   "metadata": {},
   "outputs": [
    {
     "data": {
      "text/plain": [
       "LogisticRegressionCV(Cs=100, class_weight=None, cv=10, dual=False,\n",
       "           fit_intercept=True, intercept_scaling=1.0, max_iter=100,\n",
       "           multi_class='ovr', n_jobs=-1, penalty='l2', random_state=None,\n",
       "           refit=True, scoring='roc_auc', solver='lbfgs', tol=0.0001,\n",
       "           verbose=0)"
      ]
     },
     "execution_count": 10,
     "metadata": {},
     "output_type": "execute_result"
    }
   ],
   "source": [
    "from sklearn.linear_model import LogisticRegressionCV\n",
    "\n",
    "lrcv_clf = LogisticRegressionCV(scoring=\"roc_auc\", cv=10, Cs=100, n_jobs=-1)\n",
    "\n",
    "lrcv_clf.fit(X_train, y_train)"
   ]
  },
  {
   "cell_type": "code",
   "execution_count": 11,
   "metadata": {},
   "outputs": [
    {
     "data": {
      "text/plain": [
       "0.62322274720994431"
      ]
     },
     "execution_count": 11,
     "metadata": {},
     "output_type": "execute_result"
    }
   ],
   "source": [
    "y_estimated_test = lrcv_clf.predict_proba(X_test)[:,1]\n",
    "metrics.roc_auc_score(y_test, y_estimated_test)"
   ]
  },
  {
   "cell_type": "code",
   "execution_count": 12,
   "metadata": {
    "collapsed": true
   },
   "outputs": [],
   "source": [
    "#from sklearn.model_selection import GridSearchCV\n",
    "#from sklearn.model_selection import RandomizedSearchCV\n",
    "\n",
    "#knn_clf = KNeighborsClassifier()"
   ]
  },
  {
   "cell_type": "code",
   "execution_count": 13,
   "metadata": {
    "collapsed": true
   },
   "outputs": [],
   "source": [
    "# param_grid = {\n",
    "#     \"n_neighbors\": range(1,6),\n",
    "#     \"weights\": ['uniform', 'distance'],\n",
    "#     \"p\": [1,2],   \n",
    "# }\n",
    "\n",
    "# grid = GridSearchCV(knn_clf, param_grid=param_grid, scoring=\"roc_auc\", n_jobs=-1, cv=3, verbose=1)\n",
    "\n",
    "# grid.fit(X_train, y_train)"
   ]
  },
  {
   "cell_type": "code",
   "execution_count": 14,
   "metadata": {
    "collapsed": true
   },
   "outputs": [],
   "source": [
    "#y_estimated_test = grid.predict_proba(X_test)[:,1]\n",
    "#metrics.roc_auc_score(y_test, y_estimated_test)"
   ]
  },
  {
   "cell_type": "code",
   "execution_count": 15,
   "metadata": {},
   "outputs": [
    {
     "name": "stdout",
     "output_type": "stream",
     "text": [
      "Fitting 3 folds for each of 100 candidates, totalling 300 fits\n"
     ]
    },
    {
     "name": "stderr",
     "output_type": "stream",
     "text": [
      "[Parallel(n_jobs=-1)]: Done  42 tasks      | elapsed:  2.5min\n",
      "[Parallel(n_jobs=-1)]: Done 192 tasks      | elapsed: 14.7min\n",
      "[Parallel(n_jobs=-1)]: Done 300 out of 300 | elapsed: 20.8min finished\n"
     ]
    },
    {
     "data": {
      "text/plain": [
       "RandomizedSearchCV(cv=3, error_score='raise',\n",
       "          estimator=GradientBoostingClassifier(criterion='friedman_mse', init=None,\n",
       "              learning_rate=0.1, loss='deviance', max_depth=3,\n",
       "              max_features=None, max_leaf_nodes=None,\n",
       "              min_impurity_split=1e-07, min_samples_leaf=1,\n",
       "              min_samples_split=2, min_weight_fraction_leaf=0.0,\n",
       "              n_estimators=100, presort='auto', random_state=None,\n",
       "              subsample=1.0, verbose=0, warm_start=False),\n",
       "          fit_params={}, iid=True, n_iter=100, n_jobs=-1,\n",
       "          param_distributions={'learning_rate': <scipy.stats._distn_infrastructure.rv_frozen object at 0x111344e48>, 'n_estimators': <scipy.stats._distn_infrastructure.rv_frozen object at 0x10ef7beb8>, 'max_depth': <scipy.stats._distn_infrastructure.rv_frozen object at 0x10ef7bc18>, 'min_samples_split': <scip...0x10ef96780>, 'max_leaf_nodes': <scipy.stats._distn_infrastructure.rv_frozen object at 0x10ef96908>},\n",
       "          pre_dispatch='2*n_jobs', random_state=None, refit=True,\n",
       "          return_train_score=True, scoring=None, verbose=1)"
      ]
     },
     "execution_count": 15,
     "metadata": {},
     "output_type": "execute_result"
    }
   ],
   "source": [
    "from scipy import stats\n",
    "from sklearn.model_selection import RandomizedSearchCV \n",
    "\n",
    "param_distributions = {\n",
    "    \"learning_rate\": stats.uniform(0.0001, 0.5),\n",
    "    \"n_estimators\": stats.randint(100, 500),\n",
    "    \"max_depth\": stats.randint(2, 20),\n",
    "    \"min_samples_split\": stats.uniform(0, 1),\n",
    "    \"min_samples_leaf\": stats.uniform(0, 0.5),\n",
    "    \"min_weight_fraction_leaf\": stats.uniform(0, 0.5),\n",
    "    \"subsample\":stats.uniform(0.2, 0.8),\n",
    "    \"max_leaf_nodes\": stats.randint(4, 1000)    \n",
    "}\n",
    "\n",
    "gbm_clf = GradientBoostingClassifier()\n",
    "\n",
    "r_grid = RandomizedSearchCV(gbm_clf, \n",
    "                            param_distributions=param_distributions,\n",
    "                            cv=3,\n",
    "                            n_jobs=-1,\n",
    "                            n_iter=100,\n",
    "                            verbose=1)\n",
    "\n",
    "r_grid.fit(X_train, y_train)"
   ]
  },
  {
   "cell_type": "code",
   "execution_count": 16,
   "metadata": {},
   "outputs": [
    {
     "data": {
      "text/plain": [
       "0.62274416162847801"
      ]
     },
     "execution_count": 16,
     "metadata": {},
     "output_type": "execute_result"
    }
   ],
   "source": [
    "y_estimated_test = r_grid.predict_proba(X_test)[:,1]\n",
    "metrics.roc_auc_score(y_test, y_estimated_test)\n"
   ]
  },
  {
   "cell_type": "code",
   "execution_count": 17,
   "metadata": {
    "collapsed": true
   },
   "outputs": [],
   "source": [
    "\n",
    "\n",
    "submission_example = pd.DataFrame({\"prediction\": r_grid.predict_proba(X_test)[:, 1]}, index=X_test.index)\n",
    "\n",
    "\n",
    "submission_example.to_csv(\"./submission_example.csv\")"
   ]
  },
  {
   "cell_type": "code",
   "execution_count": null,
   "metadata": {
    "collapsed": true
   },
   "outputs": [],
   "source": []
  },
  {
   "cell_type": "code",
   "execution_count": null,
   "metadata": {
    "collapsed": true
   },
   "outputs": [],
   "source": []
  },
  {
   "cell_type": "code",
   "execution_count": null,
   "metadata": {
    "collapsed": true
   },
   "outputs": [],
   "source": []
  },
  {
   "cell_type": "code",
   "execution_count": null,
   "metadata": {
    "collapsed": true
   },
   "outputs": [],
   "source": []
  },
  {
   "cell_type": "code",
   "execution_count": null,
   "metadata": {
    "collapsed": true
   },
   "outputs": [],
   "source": []
  },
  {
   "cell_type": "code",
   "execution_count": null,
   "metadata": {
    "collapsed": true
   },
   "outputs": [],
   "source": []
  },
  {
   "cell_type": "code",
   "execution_count": null,
   "metadata": {
    "collapsed": true
   },
   "outputs": [],
   "source": []
  }
 ],
 "metadata": {
  "kernelspec": {
   "display_name": "Python 3",
   "language": "python",
   "name": "python3"
  },
  "language_info": {
   "codemirror_mode": {
    "name": "ipython",
    "version": 3
   },
   "file_extension": ".py",
   "mimetype": "text/x-python",
   "name": "python",
   "nbconvert_exporter": "python",
   "pygments_lexer": "ipython3",
   "version": "3.6.1"
  }
 },
 "nbformat": 4,
 "nbformat_minor": 2
}
